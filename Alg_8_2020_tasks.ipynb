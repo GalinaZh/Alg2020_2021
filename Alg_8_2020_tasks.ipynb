{
  "nbformat": 4,
  "nbformat_minor": 0,
  "metadata": {
    "kernelspec": {
      "display_name": "Python 3",
      "language": "python",
      "name": "python3"
    },
    "language_info": {
      "codemirror_mode": {
        "name": "ipython",
        "version": 3
      },
      "file_extension": ".py",
      "mimetype": "text/x-python",
      "name": "python",
      "nbconvert_exporter": "python",
      "pygments_lexer": "ipython3",
      "version": "3.7.3"
    },
    "colab": {
      "name": "Alg_8_2020_tasks.ipynb",
      "provenance": [],
      "collapsed_sections": [],
      "include_colab_link": true
    }
  },
  "cells": [
    {
      "cell_type": "markdown",
      "metadata": {
        "id": "view-in-github",
        "colab_type": "text"
      },
      "source": [
        "<a href=\"https://colab.research.google.com/github/GalinaZh/Alg2020_2021/blob/main/Alg_8_2020_tasks.ipynb\" target=\"_parent\"><img src=\"https://colab.research.google.com/assets/colab-badge.svg\" alt=\"Open In Colab\"/></a>"
      ]
    },
    {
      "cell_type": "code",
      "metadata": {
        "id": "xakB6v5rfgFZ"
      },
      "source": [
        "import sympy\n",
        "from sympy import  Point, Line, Plane, Point3D, Segment, Ray, S, latex\n",
        "import matplotlib.pyplot as plt"
      ],
      "execution_count": null,
      "outputs": []
    },
    {
      "cell_type": "markdown",
      "metadata": {
        "id": "NILK48I4fgFd"
      },
      "source": [
        "# Практическое занятие 8\n",
        "# Алгебра\n",
        "https://docs.sympy.org/latest/search.html?q=geometry\n",
        "\n",
        "## Проекции, сегменты, лучи в модуле Geometry\n",
        "### Задание 1.\n",
        "Даны точки: $A(3, -2, 3)$,  $B(-2, 3, 1)$, \n",
        "$C(1, -8, 6)$, \n",
        "$D(1, 2, 4)$, \n",
        "$F(-7, 8, -1)$.\n",
        "\n",
        "Составить отрезки $АВ$ и $АС$ и лучи $CD$ и $BF$.\n",
        "\n",
        "Найти: \n",
        "\n",
        "угол между лучами $CD и $BF$\n",
        "\n",
        "направления луча $CD$ (xdirection, ydirection, zdirection)\n",
        "\n",
        "длину отрезка $АВ$\n",
        "\n",
        "середину отрезка $АВ$"
      ]
    },
    {
      "cell_type": "code",
      "metadata": {
        "id": "plyL1jWrfgFe"
      },
      "source": [
        ""
      ],
      "execution_count": null,
      "outputs": []
    },
    {
      "cell_type": "markdown",
      "metadata": {
        "id": "XSbnLkTVfgFe"
      },
      "source": [
        "### Задание 2.\n",
        "Построить прямую $CD$ и проекцию точки $F$ и отрезка $АВ$  на эту прямую."
      ]
    },
    {
      "cell_type": "code",
      "metadata": {
        "id": "tYSNLnZYfgFf"
      },
      "source": [
        ""
      ],
      "execution_count": null,
      "outputs": []
    },
    {
      "cell_type": "markdown",
      "metadata": {
        "id": "h5FAbVSrfgFf"
      },
      "source": [
        "### Задание 3.\n",
        "Построить серединный перпендикуляр отрезка $АС$, проходящий через точку $(8, -7, 9/2)$, найти для серединного перпендикуляра уравнение.\n",
        "\n",
        "Указание: должен получиться сегмент, использовать S(9)/2."
      ]
    },
    {
      "cell_type": "code",
      "metadata": {
        "id": "jKul5ebxfgFf"
      },
      "source": [
        ""
      ],
      "execution_count": null,
      "outputs": []
    },
    {
      "cell_type": "markdown",
      "metadata": {
        "id": "fKoPA-TifgFg"
      },
      "source": [
        "### Задание 4\n",
        "Даны точки: $A(3, -2)$, $B(-2, 3)$, $C(1, -8)$.\n",
        "\n",
        "Построить на общем графике отрезки $АВ$ и $АС$, серединный перпендикуляр отрезка  $АС$.\n",
        "\n",
        "Точки $A$, $B$ и $C$ отметить и подписать именами.\n",
        "\n",
        "Для одинакового масштаба по осям использовать \n",
        "ax.set_aspect('equal')"
      ]
    },
    {
      "cell_type": "code",
      "metadata": {
        "id": "wnoWfQI1fgFg"
      },
      "source": [
        ""
      ],
      "execution_count": null,
      "outputs": []
    },
    {
      "cell_type": "markdown",
      "metadata": {
        "id": "B70hvkAZfgFg"
      },
      "source": [
        "### Индивидуальное задание.\n",
        "Даны точки на плоскости. \n",
        "\n",
        "Построить отрезок $LM$ и луч $MN$, составить уравнения серединного перпендикуляра  к $LM$ и перпендикуляра к $MN$, проходящего через точку $P$, найти точку пересечения перпендикуляров.\n",
        "\n",
        "Построить на графике отрезок, луч (в виде отрезка) и оба перпендикуляра, отметить и подписать концы отрезка и начало луча (точку M), а также точку пересечения перпендикуляров и основания перпендикуляров (точки пересечения перпендикуляров с отрезком и лучом соответственно).\n",
        "\n",
        "В легенду включить уравнения перпендикуляров и уравнения прямых, на которых лежат отрезок и\n",
        " луч."
      ]
    },
    {
      "cell_type": "code",
      "metadata": {
        "id": "93FuNdCZfgFh"
      },
      "source": [
        ""
      ],
      "execution_count": null,
      "outputs": []
    }
  ]
}