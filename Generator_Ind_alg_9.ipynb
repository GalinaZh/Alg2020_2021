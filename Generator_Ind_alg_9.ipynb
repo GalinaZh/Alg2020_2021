{
  "nbformat": 4,
  "nbformat_minor": 0,
  "metadata": {
    "kernelspec": {
      "display_name": "Python 3",
      "language": "python",
      "name": "python3"
    },
    "language_info": {
      "codemirror_mode": {
        "name": "ipython",
        "version": 3
      },
      "file_extension": ".py",
      "mimetype": "text/x-python",
      "name": "python",
      "nbconvert_exporter": "python",
      "pygments_lexer": "ipython3",
      "version": "3.7.3"
    },
    "colab": {
      "name": "Generator_Ind_alg_9",
      "provenance": [],
      "include_colab_link": true
    }
  },
  "cells": [
    {
      "cell_type": "markdown",
      "metadata": {
        "id": "view-in-github",
        "colab_type": "text"
      },
      "source": [
        "<a href=\"https://colab.research.google.com/github/GalinaZh/Alg2020_2021/blob/main/Generator_Ind_alg_9.ipynb\" target=\"_parent\"><img src=\"https://colab.research.google.com/assets/colab-badge.svg\" alt=\"Open In Colab\"/></a>"
      ]
    },
    {
      "cell_type": "markdown",
      "metadata": {
        "id": "_1OBFTbuKkFP"
      },
      "source": [
        "## Генератор ИЗ 9\n",
        "## Алгебра\n",
        "## Проекции, сегменты, лучи в модуле Geometry\n",
        "### Индивидуальное задание.\n",
        "\n",
        "Построить на одном графике правильный треугольник, шестиугольник и восьмиугольник с радиусом описанной окружности $R$, центром в точке O.\n",
        "\n",
        "Повернуть треугольник на $\\alpha$ градусов, изобразить старый и новый треугольники на одном графике.\n",
        "\n",
        "Найти общую область правильного шестиугольника и его копии, повернутой на угол $\\beta$ градусов.\n",
        "\n",
        "$a = 4$, $\\alpha = 30$, $\\beta = 45$, O(2, -3)."
      ]
    },
    {
      "cell_type": "code",
      "metadata": {
        "id": "gscXa-ZyKkFT"
      },
      "source": [
        "import sympy\n",
        "from sympy import  Point, Line, Plane, Point2D, Segment, Ray, S, latex\n",
        "import matplotlib.pyplot as plt\n",
        "from numpy import random\n",
        "from google.colab import files"
      ],
      "execution_count": null,
      "outputs": []
    },
    {
      "cell_type": "code",
      "metadata": {
        "colab": {
          "base_uri": "https://localhost:8080/",
          "height": 146
        },
        "id": "L4Rsp8c3KkFX",
        "outputId": "1a4d0844-9fb0-44a2-b00b-ade230eb3cf5"
      },
      "source": [
        "R = 4\r\n",
        "alpha = Pi/6\r\n",
        "beta = Pi/4\r\n",
        "O = Point(2, -3)\r\n",
        "col = ('r', 'g', 'b')\r\n",
        "Poly3 = RegularPolygon(O, R, 3)\r\n",
        "Poly6 = RegularPolygon(O, R, 6)\r\n",
        "Poly8 = RegularPolygon(O, R, 8)\r\n",
        "point_dict = {point: 'A' + str(i+1) for i, point in enumerate(Poly3.vertices + Poly6.vertices +Poly8.vertices)}\r\n",
        "for i, Poly in enumerate((Poly3, Poly6, Poly8)):\r\n",
        "    draw_polygon(Poly, names=point_dict, color=col[i])  "
      ],
      "execution_count": null,
      "outputs": [
        {
          "output_type": "stream",
          "text": [
            "Уравнение серединного перпендикуляра  к LM\n"
          ],
          "name": "stdout"
        },
        {
          "output_type": "display_data",
          "data": {
            "text/latex": "$\\displaystyle - 6 x + y + \\frac{19}{2}$",
            "text/plain": [
              "-6*x + y + 19/2"
            ]
          },
          "metadata": {
            "tags": []
          }
        },
        {
          "output_type": "stream",
          "text": [
            "Уравнение перпендикуляра  к MN\n"
          ],
          "name": "stdout"
        },
        {
          "output_type": "display_data",
          "data": {
            "text/latex": "$\\displaystyle x + 5 y - 9$",
            "text/plain": [
              "x + 5*y - 9"
            ]
          },
          "metadata": {
            "tags": []
          }
        },
        {
          "output_type": "stream",
          "text": [
            "Точка пересечения перпендикуляров\n"
          ],
          "name": "stdout"
        },
        {
          "output_type": "display_data",
          "data": {
            "text/plain": [
              "[Point2D(113/62, 89/62)]"
            ]
          },
          "metadata": {
            "tags": []
          }
        }
      ]
    },
    {
      "cell_type": "code",
      "metadata": {
        "id": "pF28JD5K9Uga"
      },
      "source": [
        "Poly3rot = Poly3.rotate(alpha)\r\n",
        "for i, vert in enumerate(Poly3rot.vertices):\r\n",
        "    point_dict[vert] = 'B' + str(i + 1)\r\n",
        "draw_polygon(Poly3, names=point_dict, color=col[i])  \r\n",
        "draw_polygon(Poly3.rotate(alpha), names=point_dict, color=col[i])  \r\n",
        "Intersection = Poly6.intersection(Poly6.rotate(beta))\r\n",
        "display(*Intersection)"
      ],
      "execution_count": null,
      "outputs": []
    },
    {
      "cell_type": "code",
      "metadata": {
        "id": "ohkNzLUWDUnF"
      },
      "source": [
        "header=\"\"\" \\\\documentclass[11pt]{report}\\n\r\n",
        "\\\\usepackage[T2A]{fontenc}\\n\r\n",
        "\\\\usepackage[utf8]{inputenc}\\n\r\n",
        "\\\\usepackage[russian]{babel}\\n\r\n",
        "\\\\usepackage{amsmath,amssymb}\\n\r\n",
        "\\\\usepackage{graphicx}\\n\r\n",
        "\\\\graphicspath{ {d:/HSE/OR/CW/CW5pict/} }\\n\r\n",
        "\\\\begin{document}\\n\r\n",
        "\\\\pagestyle{empty}\\n\r\n",
        "{\\\\bf Индивидуальное задание.}\\n\\n\r\n",
        "Даны точки на плоскости. \r\n",
        "\r\n",
        "Построить отрезок $LM$ и луч $MN$, составить уравнения серединного перпендикуляра  к $LM$ и перпендикуляра к $MN$, проходящего через точку $P$, найти точку пересечения перпендикуляров.\r\n",
        "\r\n",
        "Построить на графике отрезок, луч (в виде отрезка) и оба серединных перпендикуляра, отметить и подписать концы отрезка и начало луча (точку M), а также точку пересечения перпендикуляров и основания перпендикуляров (точки пересечения перпендикуляров с отрезком и лучом соответственно).\r\n",
        "\r\n",
        "В легенду включить уравнения перпендикуляров и уравнения прямых, на которых лежат отрезок и\r\n",
        " луч.\\n\\n\"\"\"\r\n",
        "\r\n",
        "condition = \"\"\"\\n\\nТочки: $L({0}, {1})$, $M({2}, {3})$, $N({4}, {5})$, $P({6}, {7})$.\\n\\n\"\"\" \r\n",
        "\r\n",
        "answer =  \"\"\"\\n\\nТочка пересечения перпендикуляров Q({0}, {1}),\\n\\n $LM$: {2},\\n\\n $MN$: {3},\\n\\n серединный перпендикуляр к $LM$: {4},\\n\\n перпендикуляр к $MN$: {5}.\\n\\n\"\"\""
      ],
      "execution_count": null,
      "outputs": []
    },
    {
      "cell_type": "code",
      "metadata": {
        "id": "P3dkXIZaLj0m"
      },
      "source": [
        "def task():\r\n",
        "    lx = 5 - random.randint(10)\r\n",
        "    ly = 5 - random.randint(10)\r\n",
        "    L = Point(lx, ly)\r\n",
        "    lx = 5 + random.randint(10)\r\n",
        "    ly = 5 - random.randint(10)\r\n",
        "    M = Point(lx, ly)\r\n",
        "    lx = 5 - random.randint(10)\r\n",
        "    ly = 5 + random.randint(10)\r\n",
        "    N = Point(lx, ly)\r\n",
        "    while Point2D.is_collinear(L, M, N):\r\n",
        "        lx = 5 - random.randint(10)\r\n",
        "        ly = 5 + random.randint(10)\r\n",
        "        N = Point(lx, ly)\r\n",
        "    alpha = random.randint(10)\r\n",
        "    alpha = alpha/(alpha + 3)\r\n",
        "    P = Point(lx*alpha + L.x*(1 - alpha), ly*alpha + L.y*(1 - alpha))\r\n",
        "    LM = Segment(L, M)\r\n",
        "    MN = Ray(M, N)\r\n",
        "    bisectLM = LM.perpendicular_bisector()\r\n",
        "    perpMN = MN.perpendicular_line(P)\r\n",
        "    Q = bisectLM.intersection(perpMN)[0]\r\n",
        "    num, denom = sympy.fraction(Q.x)\r\n",
        "    if abs(num + denom) > 1000:\r\n",
        "        return task()\r\n",
        "    num, denom = sympy.fraction(Q.y)\r\n",
        "    if abs(num + denom) > 1000:\r\n",
        "        return task()    \r\n",
        "    LM = Line(L, M)\r\n",
        "    MN = Line(M, N)\r\n",
        "    res = (L, M, N, P, Q, LM.equation(), MN.equation(), bisectLM.equation(), perpMN.equation())\r\n",
        "    #plt.scatter([L.x, M.x, N.x, P.x, Q.x], [L.y, M.y, N.y, P.y, Q.y])\r\n",
        "    return res\r\n",
        "\r\n",
        "    #sympy.plot(*res)\r\n",
        "    "
      ],
      "execution_count": null,
      "outputs": []
    },
    {
      "cell_type": "code",
      "metadata": {
        "colab": {
          "base_uri": "https://localhost:8080/",
          "height": 17
        },
        "id": "rAeQNOG_FBqn",
        "outputId": "9de76af6-b071-4cec-8dff-3c306845fe9a"
      },
      "source": [
        "to_file = header\r\n",
        "to_file_ans = header\r\n",
        "\r\n",
        "for i in range(1, 151):\r\n",
        "    L, M, N, P, Q, LMeq, MNeq, bisectLMeq, perpMNeq = task()\r\n",
        "    cond_str = ('Вариант N ' + str(i) + condition.format(L.x, L.y, M.x, M.y, N.x, N.y, P.x, P.y))\r\n",
        "    to_file += cond_str\r\n",
        "    to_file_ans += (cond_str + answer.format(Q.x, Q.y, sympy.latex(LMeq, mode='inline'), sympy.latex(MNeq, mode='inline'), sympy.latex(bisectLMeq, mode='inline'), sympy.latex(perpMNeq, mode='inline')))\r\n",
        "\r\n",
        "to_file += '\\\\end{document}'\r\n",
        "to_file_ans += '\\\\end{document}'\r\n",
        "\r\n",
        "fname = 'Ind_8_alg.tex'\r\n",
        "fname_ans = 'Ind_8_alg_ans.tex'\r\n",
        "with open(fname, 'w', encoding='utf-8') as f:\r\n",
        "    f.write(to_file)\r\n",
        "with open(fname_ans, 'w', encoding='utf-8') as fa:\r\n",
        "    fa.write(to_file_ans)    \r\n",
        "files.download(fname)\r\n",
        "files.download(fname_ans)\r\n",
        "\r\n"
      ],
      "execution_count": null,
      "outputs": [
        {
          "output_type": "display_data",
          "data": {
            "application/javascript": [
              "\n",
              "    async function download(id, filename, size) {\n",
              "      if (!google.colab.kernel.accessAllowed) {\n",
              "        return;\n",
              "      }\n",
              "      const div = document.createElement('div');\n",
              "      const label = document.createElement('label');\n",
              "      label.textContent = `Downloading \"${filename}\": `;\n",
              "      div.appendChild(label);\n",
              "      const progress = document.createElement('progress');\n",
              "      progress.max = size;\n",
              "      div.appendChild(progress);\n",
              "      document.body.appendChild(div);\n",
              "\n",
              "      const buffers = [];\n",
              "      let downloaded = 0;\n",
              "\n",
              "      const channel = await google.colab.kernel.comms.open(id);\n",
              "      // Send a message to notify the kernel that we're ready.\n",
              "      channel.send({})\n",
              "\n",
              "      for await (const message of channel.messages) {\n",
              "        // Send a message to notify the kernel that we're ready.\n",
              "        channel.send({})\n",
              "        if (message.buffers) {\n",
              "          for (const buffer of message.buffers) {\n",
              "            buffers.push(buffer);\n",
              "            downloaded += buffer.byteLength;\n",
              "            progress.value = downloaded;\n",
              "          }\n",
              "        }\n",
              "      }\n",
              "      const blob = new Blob(buffers, {type: 'application/binary'});\n",
              "      const a = document.createElement('a');\n",
              "      a.href = window.URL.createObjectURL(blob);\n",
              "      a.download = filename;\n",
              "      div.appendChild(a);\n",
              "      a.click();\n",
              "      div.remove();\n",
              "    }\n",
              "  "
            ],
            "text/plain": [
              "<IPython.core.display.Javascript object>"
            ]
          },
          "metadata": {
            "tags": []
          }
        },
        {
          "output_type": "display_data",
          "data": {
            "application/javascript": [
              "download(\"download_9feac4d1-5e76-44f6-b056-7f68eec152b0\", \"Ind_8_alg.tex\", 14084)"
            ],
            "text/plain": [
              "<IPython.core.display.Javascript object>"
            ]
          },
          "metadata": {
            "tags": []
          }
        },
        {
          "output_type": "display_data",
          "data": {
            "application/javascript": [
              "\n",
              "    async function download(id, filename, size) {\n",
              "      if (!google.colab.kernel.accessAllowed) {\n",
              "        return;\n",
              "      }\n",
              "      const div = document.createElement('div');\n",
              "      const label = document.createElement('label');\n",
              "      label.textContent = `Downloading \"${filename}\": `;\n",
              "      div.appendChild(label);\n",
              "      const progress = document.createElement('progress');\n",
              "      progress.max = size;\n",
              "      div.appendChild(progress);\n",
              "      document.body.appendChild(div);\n",
              "\n",
              "      const buffers = [];\n",
              "      let downloaded = 0;\n",
              "\n",
              "      const channel = await google.colab.kernel.comms.open(id);\n",
              "      // Send a message to notify the kernel that we're ready.\n",
              "      channel.send({})\n",
              "\n",
              "      for await (const message of channel.messages) {\n",
              "        // Send a message to notify the kernel that we're ready.\n",
              "        channel.send({})\n",
              "        if (message.buffers) {\n",
              "          for (const buffer of message.buffers) {\n",
              "            buffers.push(buffer);\n",
              "            downloaded += buffer.byteLength;\n",
              "            progress.value = downloaded;\n",
              "          }\n",
              "        }\n",
              "      }\n",
              "      const blob = new Blob(buffers, {type: 'application/binary'});\n",
              "      const a = document.createElement('a');\n",
              "      a.href = window.URL.createObjectURL(blob);\n",
              "      a.download = filename;\n",
              "      div.appendChild(a);\n",
              "      a.click();\n",
              "      div.remove();\n",
              "    }\n",
              "  "
            ],
            "text/plain": [
              "<IPython.core.display.Javascript object>"
            ]
          },
          "metadata": {
            "tags": []
          }
        },
        {
          "output_type": "display_data",
          "data": {
            "application/javascript": [
              "download(\"download_7f573d58-19d0-45bb-9713-24c7c89abb6d\", \"Ind_8_alg_ans.tex\", 55368)"
            ],
            "text/plain": [
              "<IPython.core.display.Javascript object>"
            ]
          },
          "metadata": {
            "tags": []
          }
        }
      ]
    },
    {
      "cell_type": "code",
      "metadata": {
        "id": "rX34lot0GkZk"
      },
      "source": [
        "M.x"
      ],
      "execution_count": null,
      "outputs": []
    }
  ]
}