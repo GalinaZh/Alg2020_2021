{
  "nbformat": 4,
  "nbformat_minor": 0,
  "metadata": {
    "kernelspec": {
      "display_name": "Python 3",
      "language": "python",
      "name": "python3"
    },
    "language_info": {
      "codemirror_mode": {
        "name": "ipython",
        "version": 3
      },
      "file_extension": ".py",
      "mimetype": "text/x-python",
      "name": "python",
      "nbconvert_exporter": "python",
      "pygments_lexer": "ipython3",
      "version": "3.7.3"
    },
    "colab": {
      "name": "Alg_8_2020.ipynb",
      "provenance": [],
      "collapsed_sections": [],
      "include_colab_link": true
    }
  },
  "cells": [
    {
      "cell_type": "markdown",
      "metadata": {
        "id": "view-in-github",
        "colab_type": "text"
      },
      "source": [
        "<a href=\"https://colab.research.google.com/github/GalinaZh/Alg2020_2021/blob/main/Alg_8_2020.ipynb\" target=\"_parent\"><img src=\"https://colab.research.google.com/assets/colab-badge.svg\" alt=\"Open In Colab\"/></a>"
      ]
    },
    {
      "cell_type": "code",
      "metadata": {
        "id": "kL5T_lZmX3ED"
      },
      "source": [
        "import sympy\n",
        "from sympy import  Point, Line, Plane, Point3D, Segment, Ray, latex\n",
        "import matplotlib.pyplot as plt"
      ],
      "execution_count": null,
      "outputs": []
    },
    {
      "cell_type": "markdown",
      "metadata": {
        "id": "zLjLqCWvX3EG"
      },
      "source": [
        "# Занятие 8\n",
        "# Алгебра\n",
        "https://docs.sympy.org/latest/search.html?q=geometry\n",
        "\n",
        "## Проекции, сегменты, лучи в модуле Geometry\n",
        "\n",
        "### projection(other)\n",
        "\n",
        "Проекция точки или отрезка на прямую, а также точки на плоскость\n",
        "\n",
        "###### Параметры:\n",
        "\n",
        "        other : точка или отрезок\n",
        "\n",
        "возвращает объект, соответствующий типу other\n",
        "        \n",
        "Проекция отрезка находится так: для каждой из двух точек, определяющих отрезок находится ближайшая точка на прямой, на которую стоится проекция, потом по найденным точкам строится отрезок.\n",
        "### projection_line\n",
        "проекция прямой на плоскость.\n",
        "### Segment \n",
        "отрезок,\n",
        "параметры: \n",
        "###### p1 и p2 \n",
        "точки\n",
        "###### Свойства:\n",
        "###### length \n",
        "длина (число или выражение)\n",
        "###### midpoint \n",
        "середина отрезка - точка\n",
        "###### contains(other)\n",
        "содержится ли other в сегменте\n",
        "###### perpendicular_bisector(p=None) \n",
        "серединный перпендикуляр отрезка, причем\n",
        "если точка p не задана, или не лежит на серединном перпендикуляре, то возвращается перпендикулярная прямая, проходящая через середину отрезка иначе возвращается отрезок,\n",
        "соединяющий точку p и середину отрезка или сама точка p, если она является серединой отрезка\n",
        "### Ray\n",
        "луч - полупрямая, имеющая начальную точку и направление,\n",
        "###### параметры\n",
        "###### р1 \n",
        "начальная точка, \n",
        "###### р2\n",
        "точка или угол в радианах, р2 определяет направление луча.\n",
        "###### свойства: \n",
        "###### source \n",
        "точка, из которой луч выходит \n",
        "###### xdirection \n",
        "направление по оси ОХ, положительная (отрицалеотная) бесконечность, если луч направлен в положительную (отрицательную) сторону оси ОХ; 0 - если перпендикулярен оси ОХ. \n",
        "###### ydirection  zdirection - аналогично\n",
        "### Линейные объекты 2D\n",
        "Базовый класс всех линейных объектов (прямых, лучей, отрезков) в двумерном евклидовом пространстве\n",
        "###### Свойства:\n",
        "###### p1, p2 \n",
        "точки\n",
        "###### coefficients\n",
        "коэффициенты уравнения линейного объекта\n",
        "###### slope \n",
        "угол наклона (для вертикальных - бесконечность), число или выражение\n",
        "###### bounds \n",
        "tuple (xmin, ymin, xmax, ymax) - границы прямоугольника, содержащего данный геометрический объект\n",
        "###### perpendicular_line(p) \n",
        "прямая, перпендикулярная данному геомерическому объекту, проходящая через точку p\n",
        "### Пример 1.\n",
        "Даны точки: $A(1, 2, 3)$,  $B(-5, 1, 7)$, $С(-2, 3, 5)$, $K(8, 7, 3)$, $M(6, -3, 1)$.\n",
        "\n",
        "Найти проекцию точки $К$ на прямую $АВ$ и на плоскость $АВС$.\n",
        "\n",
        "Построить проекцию прямой $КМ$ на плоскость $АВС$."
      ]
    },
    {
      "cell_type": "code",
      "metadata": {
        "id": "hk6HjxDPX3EI",
        "outputId": "b9e8542e-5195-4560-aed6-04a75a30ee87"
      },
      "source": [
        "A = Point(1, 2, 3)\n",
        "B = Point(-5, 1, 7)\n",
        "C = Point(-2, 3, 5)\n",
        "K = Point(8, 7, 3) \n",
        "M = Point(6, -3, 1) \n",
        "AB = Line(A, B)\n",
        "KM = Line(K, M)\n",
        "ABC = Plane(A, B)\n",
        "display(AB.projection(K), ABC.projection(K), ABC.projection_line(KM))"
      ],
      "execution_count": null,
      "outputs": [
        {
          "output_type": "display_data",
          "data": {
            "text/latex": "$\\displaystyle Point3D\\left(\\frac{335}{53}, \\frac{153}{53}, - \\frac{29}{53}\\right)$",
            "text/plain": [
              "Point3D(335/53, 153/53, -29/53)"
            ]
          },
          "metadata": {
            "tags": []
          }
        },
        {
          "output_type": "display_data",
          "data": {
            "text/latex": "$\\displaystyle Point3D\\left(6, \\frac{37}{5}, \\frac{29}{5}\\right)$",
            "text/plain": [
              "Point3D(6, 37/5, 29/5)"
            ]
          },
          "metadata": {
            "tags": []
          }
        },
        {
          "output_type": "display_data",
          "data": {
            "text/latex": "$\\displaystyle Line3D\\left(Point3D\\left(6, \\frac{37}{5}, \\frac{29}{5}\\right), Point3D\\left(\\frac{46}{15}, - \\frac{181}{75}, \\frac{383}{75}\\right)\\right)$",
            "text/plain": [
              "Line3D(Point3D(6, 37/5, 29/5), Point3D(46/15, -181/75, 383/75))"
            ]
          },
          "metadata": {
            "tags": []
          }
        }
      ]
    },
    {
      "cell_type": "markdown",
      "metadata": {
        "id": "ylIkKuX5X3EJ"
      },
      "source": [
        "### Пример 2\n",
        "\n",
        "Создадим отрезок КМ_seg и найдем его проекцию на прямую АВ "
      ]
    },
    {
      "cell_type": "code",
      "metadata": {
        "id": "wDKqUkL6X3EK",
        "outputId": "9c64bf3e-9c86-4c00-afe3-95d46e2c4424"
      },
      "source": [
        "KM_seg = Segment(K, M)\n",
        "display(AB.projection(KM_seg))"
      ],
      "execution_count": null,
      "outputs": [
        {
          "output_type": "display_data",
          "data": {
            "text/latex": "$\\displaystyle Segment3D\\left(Point3D\\left(\\frac{335}{53}, \\frac{153}{53}, - \\frac{29}{53}\\right), Point3D\\left(\\frac{251}{53}, \\frac{139}{53}, \\frac{27}{53}\\right)\\right)$",
            "text/plain": [
              "Segment3D(Point3D(335/53, 153/53, -29/53), Point3D(251/53, 139/53, 27/53))"
            ]
          },
          "metadata": {
            "tags": []
          }
        }
      ]
    },
    {
      "cell_type": "markdown",
      "metadata": {
        "id": "JzcM9F2WX3EK"
      },
      "source": [
        "### Пример 3\n",
        "Найдем середину отрезка KM_seg, построим серединный перпендикуляр от точки с координатами (x, y, z), от средней точки и от точки (17, 0, 2)."
      ]
    },
    {
      "cell_type": "code",
      "metadata": {
        "id": "XrCndy93X3EK",
        "outputId": "faab8f41-a0b8-453a-fbfc-5f0930d65db0"
      },
      "source": [
        "mid = KM_seg.midpoint\n",
        "print('KM midpoint')\n",
        "display(mid)\n",
        "print('Bisectors:')\n",
        "from sympy.abc import x, y, z\n",
        "for p in (mid, Point(x, y, z), Point(17, 0, 2)):\n",
        "    display(KM_seg.perpendicular_bisector(p))"
      ],
      "execution_count": null,
      "outputs": [
        {
          "output_type": "stream",
          "text": [
            "KM midpoint\n"
          ],
          "name": "stdout"
        },
        {
          "output_type": "display_data",
          "data": {
            "text/latex": "$\\displaystyle Point3D\\left(7, 2, 2\\right)$",
            "text/plain": [
              "Point3D(7, 2, 2)"
            ]
          },
          "metadata": {
            "tags": []
          }
        },
        {
          "output_type": "stream",
          "text": [
            "Bisectors:\n"
          ],
          "name": "stdout"
        },
        {
          "output_type": "display_data",
          "data": {
            "text/latex": "$\\displaystyle Point3D\\left(7, 2, 2\\right)$",
            "text/plain": [
              "Point3D(7, 2, 2)"
            ]
          },
          "metadata": {
            "tags": []
          }
        },
        {
          "output_type": "display_data",
          "data": {
            "text/latex": "$\\displaystyle Line3D\\left(Point3D\\left(17, 0, 2\\right), Point3D\\left(7, 2, 2\\right)\\right)$",
            "text/plain": [
              "Line3D(Point3D(17, 0, 2), Point3D(7, 2, 2))"
            ]
          },
          "metadata": {
            "tags": []
          }
        },
        {
          "output_type": "display_data",
          "data": {
            "text/latex": "$\\displaystyle Segment3D\\left(Point3D\\left(17, 0, 2\\right), Point3D\\left(7, 2, 2\\right)\\right)$",
            "text/plain": [
              "Segment3D(Point3D(17, 0, 2), Point3D(7, 2, 2))"
            ]
          },
          "metadata": {
            "tags": []
          }
        }
      ]
    },
    {
      "cell_type": "markdown",
      "metadata": {
        "id": "DO3Rz3KPX3EL"
      },
      "source": [
        "### Пример 4\n",
        "Проверим, какие точки из Примера 1 лежат на  $KM$. "
      ]
    },
    {
      "cell_type": "code",
      "metadata": {
        "id": "UOSMa9isX3EL",
        "outputId": "0224c92d-d4f7-48f7-da1b-c4f12ad90926"
      },
      "source": [
        "for p in (A, B, C, K, M):\n",
        "    if KM.contains(p):\n",
        "        print(p)        "
      ],
      "execution_count": null,
      "outputs": [
        {
          "output_type": "stream",
          "text": [
            "Point3D(8, 7, 3)\n",
            "Point3D(6, -3, 1)\n"
          ],
          "name": "stdout"
        }
      ]
    },
    {
      "cell_type": "markdown",
      "metadata": {
        "id": "Cp0mGY8-X3EM"
      },
      "source": [
        "### Пример 5\n",
        "Угол между лучами AB_ray и KM_ray"
      ]
    },
    {
      "cell_type": "code",
      "metadata": {
        "id": "DFXLuMvYX3EM",
        "outputId": "6735d40a-b1af-4f71-948f-5d081338f289"
      },
      "source": [
        "AB_ray = Ray(A, B)\n",
        "KM_ray = Ray(K, M)\n",
        "AB_ray.angle_between(KM_ray)"
      ],
      "execution_count": null,
      "outputs": [
        {
          "output_type": "execute_result",
          "data": {
            "text/latex": "$\\displaystyle \\operatorname{acos}{\\left(\\frac{7 \\sqrt{159}}{477} \\right)}$",
            "text/plain": [
              "acos(7*sqrt(159)/477)"
            ]
          },
          "metadata": {
            "tags": []
          },
          "execution_count": 6
        }
      ]
    },
    {
      "cell_type": "markdown",
      "metadata": {
        "id": "Ah3Ws6szX3EM"
      },
      "source": [
        "### Пример 6\n",
        "Создадим точки на плоскости:\n",
        "$R(-2, 3)$, $S(4, 0)$, $Q(1, -2)$ "
      ]
    },
    {
      "cell_type": "code",
      "metadata": {
        "id": "eqbY9bToX3EM"
      },
      "source": [
        "R = Point(-2, 3)\n",
        "S = Point(4, 0)\n",
        "Q = Point(1, -2) \n",
        "O = Point(0, 0)"
      ],
      "execution_count": null,
      "outputs": []
    },
    {
      "cell_type": "markdown",
      "metadata": {
        "id": "8fGduOh6X3EN"
      },
      "source": [
        "Построим отрезок RS_seg, луч SQ_ray и узнаем, какие у них точки, коэффициенты наклона, границы. "
      ]
    },
    {
      "cell_type": "code",
      "metadata": {
        "id": "9gq-m9Y4X3EN",
        "outputId": "f7ea4a5f-20bd-4c2b-de21-2a68169299ed"
      },
      "source": [
        "RS_seg = Segment(R, S)\n",
        "QS_ray = Ray(Q, S)\n",
        "display(((RS_seg.p1, RS_seg.p2), RS_seg.slope, RS_seg.bounds))\n",
        "display((QS_ray.source, QS_ray.slope, QS_ray.bounds))"
      ],
      "execution_count": null,
      "outputs": [
        {
          "output_type": "display_data",
          "data": {
            "text/plain": [
              "((Point2D(-2, 3), Point2D(4, 0)), -1/2, (-2, 0, 4, 3))"
            ]
          },
          "metadata": {
            "tags": []
          }
        },
        {
          "output_type": "display_data",
          "data": {
            "text/plain": [
              "(Point2D(1, -2), 2/3, (1, -2, 4, 0))"
            ]
          },
          "metadata": {
            "tags": []
          }
        }
      ]
    },
    {
      "cell_type": "markdown",
      "metadata": {
        "id": "L9gIoK4TX3EN"
      },
      "source": [
        "Построим перпендикулярные к RS_seg и QS_ray линии, проходящие через начало координат.\n",
        "\n",
        "Составим уравнения этих прямых, найдем коэффициент наклона каждой из них."
      ]
    },
    {
      "cell_type": "code",
      "metadata": {
        "id": "_fjJU-2kX3EO",
        "outputId": "3d500739-6b8a-4c03-ba70-11f3f0f1e1ac"
      },
      "source": [
        "RS_perp = RS_seg.perpendicular_line(O)\n",
        "display('RS', RS_perp, RS_perp.equation(x='x', y='y'), RS_perp.slope)\n",
        "QS_perp = QS_ray.perpendicular_line(O)\n",
        "display('QS', QS_perp,QS_perp.equation(x='x', y='y'), QS_perp.slope)"
      ],
      "execution_count": null,
      "outputs": [
        {
          "output_type": "display_data",
          "data": {
            "text/plain": [
              "'RS'"
            ]
          },
          "metadata": {
            "tags": []
          }
        },
        {
          "output_type": "display_data",
          "data": {
            "image/svg+xml": "<svg xmlns=\"http://www.w3.org/2000/svg\"\n            xmlns:xlink=\"http://www.w3.org/1999/xlink\"\n            width=\"100.0\" height=\"100.0\" viewBox=\"-0.600000000000000 -0.600000000000000 4.20000000000000 7.20000000000000\"\n            preserveAspectRatio=\"xMinYMin meet\">\n            <defs>\n                <marker id=\"markerCircle\" markerWidth=\"8\" markerHeight=\"8\"\n                    refx=\"5\" refy=\"5\" markerUnits=\"strokeWidth\">\n                    <circle cx=\"5\" cy=\"5\" r=\"1.5\" style=\"stroke: none; fill:#000000;\"/>\n                </marker>\n                <marker id=\"markerArrow\" markerWidth=\"13\" markerHeight=\"13\" refx=\"2\" refy=\"4\"\n                       orient=\"auto\" markerUnits=\"strokeWidth\">\n                    <path d=\"M2,2 L2,6 L6,4\" style=\"fill: #000000;\" />\n                </marker>\n                <marker id=\"markerReverseArrow\" markerWidth=\"13\" markerHeight=\"13\" refx=\"6\" refy=\"4\"\n                       orient=\"auto\" markerUnits=\"strokeWidth\">\n                    <path d=\"M6,2 L6,6 L2,4\" style=\"fill: #000000;\" />\n                </marker>\n            </defs><g transform=\"matrix(1,0,0,-1,0,6.00000000000000)\"><path fill-rule=\"evenodd\" fill=\"#66cc99\" stroke=\"#555555\" stroke-width=\"0.144000000000000\" opacity=\"0.6\" d=\"M 0,0 L 3.00000000000000,6.00000000000000\" marker-start=\"url(#markerReverseArrow)\" marker-end=\"url(#markerArrow)\"/></g></svg>",
            "text/latex": "$\\displaystyle Line2D\\left(Point2D\\left(0, 0\\right), Point2D\\left(3, 6\\right)\\right)$",
            "text/plain": [
              "Line2D(Point2D(0, 0), Point2D(3, 6))"
            ]
          },
          "metadata": {
            "tags": []
          }
        },
        {
          "output_type": "display_data",
          "data": {
            "text/latex": "$\\displaystyle - 6 x + 3 y$",
            "text/plain": [
              "-6*x + 3*y"
            ]
          },
          "metadata": {
            "tags": []
          }
        },
        {
          "output_type": "display_data",
          "data": {
            "text/latex": "$\\displaystyle 2$",
            "text/plain": [
              "2"
            ]
          },
          "metadata": {
            "tags": []
          }
        },
        {
          "output_type": "display_data",
          "data": {
            "text/plain": [
              "'QS'"
            ]
          },
          "metadata": {
            "tags": []
          }
        },
        {
          "output_type": "display_data",
          "data": {
            "image/svg+xml": "<svg xmlns=\"http://www.w3.org/2000/svg\"\n            xmlns:xlink=\"http://www.w3.org/1999/xlink\"\n            width=\"100.0\" height=\"100.0\" viewBox=\"-2.30000000000000 -0.300000000000000 2.60000000000000 3.60000000000000\"\n            preserveAspectRatio=\"xMinYMin meet\">\n            <defs>\n                <marker id=\"markerCircle\" markerWidth=\"8\" markerHeight=\"8\"\n                    refx=\"5\" refy=\"5\" markerUnits=\"strokeWidth\">\n                    <circle cx=\"5\" cy=\"5\" r=\"1.5\" style=\"stroke: none; fill:#000000;\"/>\n                </marker>\n                <marker id=\"markerArrow\" markerWidth=\"13\" markerHeight=\"13\" refx=\"2\" refy=\"4\"\n                       orient=\"auto\" markerUnits=\"strokeWidth\">\n                    <path d=\"M2,2 L2,6 L6,4\" style=\"fill: #000000;\" />\n                </marker>\n                <marker id=\"markerReverseArrow\" markerWidth=\"13\" markerHeight=\"13\" refx=\"6\" refy=\"4\"\n                       orient=\"auto\" markerUnits=\"strokeWidth\">\n                    <path d=\"M6,2 L6,6 L2,4\" style=\"fill: #000000;\" />\n                </marker>\n            </defs><g transform=\"matrix(1,0,0,-1,0,3.00000000000000)\"><path fill-rule=\"evenodd\" fill=\"#66cc99\" stroke=\"#555555\" stroke-width=\"0.0720000000000000\" opacity=\"0.6\" d=\"M 0,0 L -2.00000000000000,3.00000000000000\" marker-start=\"url(#markerReverseArrow)\" marker-end=\"url(#markerArrow)\"/></g></svg>",
            "text/latex": "$\\displaystyle Line2D\\left(Point2D\\left(0, 0\\right), Point2D\\left(-2, 3\\right)\\right)$",
            "text/plain": [
              "Line2D(Point2D(0, 0), Point2D(-2, 3))"
            ]
          },
          "metadata": {
            "tags": []
          }
        },
        {
          "output_type": "display_data",
          "data": {
            "text/latex": "$\\displaystyle - 3 x - 2 y$",
            "text/plain": [
              "-3*x - 2*y"
            ]
          },
          "metadata": {
            "tags": []
          }
        },
        {
          "output_type": "display_data",
          "data": {
            "text/latex": "$\\displaystyle - \\frac{3}{2}$",
            "text/plain": [
              "-3/2"
            ]
          },
          "metadata": {
            "tags": []
          }
        }
      ]
    },
    {
      "cell_type": "markdown",
      "metadata": {
        "id": "SD8t-m2lX3EO"
      },
      "source": [
        "### Пример 7\n",
        "Даны точки: $A(1, -2)$,  $B(-2, -3)$, \n",
        "$F(2, -1)$.\n",
        "Построить на графике прямую $BF$, отрезок $АВ$, отметить точку $F$ и подписать именами точки."
      ]
    },
    {
      "cell_type": "code",
      "metadata": {
        "id": "mdiYQPkxX3EO",
        "outputId": "356fcff3-b50a-48f0-84b8-25c140cb90c4"
      },
      "source": [
        "A = Point(1, -2)\n",
        "B = Point(-2, -3)\n",
        "F = Point(2, -1) \n",
        "BF = Line(B, F)\n",
        "point_dict = {A: 'A', B: 'B', F: 'F'}\n",
        "AB_seg = Segment(A, B)\n",
        "X = []\n",
        "Y = []\n",
        "ax = plt.gca()\n",
        "ax.set_aspect('equal')\n",
        "for point in (point_dict.keys()): \n",
        "    x_coord = point.x\n",
        "    y_coord = point.y\n",
        "    X.append(x_coord)\n",
        "    Y.append(y_coord)\n",
        "    ax.annotate(point_dict[point],\n",
        "            xy=(x_coord, y_coord), xycoords='data',\n",
        "            xytext=(x_coord + 0.05, y_coord + 0.05), textcoords='data') \n",
        "ax.plot([A.x, B.x], [A.y, B.y])\n",
        "ax.plot([BF.p1.x, BF.p2.x], [BF.p1.y, BF.p2.y], label = latex(BF.equation(x='x', y='y'), mode='inline'))\n",
        "ax.legend()\n",
        "ax.scatter(X, Y)"
      ],
      "execution_count": null,
      "outputs": [
        {
          "output_type": "execute_result",
          "data": {
            "text/plain": [
              "<matplotlib.collections.PathCollection at 0x22217bea978>"
            ]
          },
          "metadata": {
            "tags": []
          },
          "execution_count": 12
        },
        {
          "output_type": "display_data",
          "data": {
            "image/png": "[encoded data removed]",
            "text/plain": [
              "<Figure size 432x288 with 1 Axes>"
            ]
          },
          "metadata": {
            "tags": [],
            "needs_background": "light"
          }
        }
      ]
    }
  ]
}